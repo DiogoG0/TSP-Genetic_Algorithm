{
 "cells": [
  {
   "cell_type": "code",
   "execution_count": null,
   "id": "f20fbee3",
   "metadata": {},
   "outputs": [],
   "source": [
    "# ------------------- Função para criar o Dataset num Txt --------------------\n",
    "\n",
    "import random\n",
    "\n",
    "def generate_cities_dataset(num_cities=100, file_path=\"cities_data.txt\"):\n",
    "    cities = []\n",
    "\n",
    "    for i in range(1, num_cities + 1):\n",
    "        latitude = round(random.uniform(36.0, 70.0), 6) # Latitude da Europa\n",
    "        longitude = round(random.uniform(-20.0, 40.0), 6) # Longitude da Europa\n",
    "        cities.append([i, latitude, longitude])\n",
    "\n",
    "    try:\n",
    "        with open(file_path, 'w') as file:\n",
    "            for city in cities:\n",
    "                file.write(f\"{city[0]} {city[1]} {city[2]}\\n\")\n",
    "        print(f\"Dados das cidades foram salvos em {file_path}\")\n",
    "    except Exception as e:\n",
    "        print(f\"Ocorreu um erro ao salvar os dados: {e}\")\n",
    "\n",
    "# ------------------------------ Criação do dataset --------------------------\n",
    "\n",
    "generate_cities_dataset(num_cities=100, file_path=\"cities_data.txt\")"
   ]
  }
 ],
 "metadata": {
  "kernelspec": {
   "display_name": "Python 3 (ipykernel)",
   "language": "python",
   "name": "python3"
  },
  "language_info": {
   "codemirror_mode": {
    "name": "ipython",
    "version": 3
   },
   "file_extension": ".py",
   "mimetype": "text/x-python",
   "name": "python",
   "nbconvert_exporter": "python",
   "pygments_lexer": "ipython3",
   "version": "3.11.5"
  }
 },
 "nbformat": 4,
 "nbformat_minor": 5
}
